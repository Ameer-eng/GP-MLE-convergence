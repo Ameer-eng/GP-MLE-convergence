{
 "cells": [
  {
   "cell_type": "code",
   "execution_count": 1,
   "metadata": {},
   "outputs": [],
   "source": [
    "import numpy as np\n",
    "import scipy\n",
    "from matplotlib import pyplot as plt\n",
    "import time\n",
    "from sklearn.gaussian_process.kernels import RBF, WhiteKernel, ExpSineSquared\n",
    "from sklearn.gaussian_process import GaussianProcessRegressor\n",
    "\n",
    "import numpy as np\n",
    "from sklearn.gaussian_process.kernels import StationaryKernelMixin, NormalizedKernelMixin, Kernel\n",
    "from sklearn.gaussian_process.kernels import Hyperparameter\n",
    "from scipy.spatial.distance import pdist, cdist\n",
    "from scipy.spatial.distance import squareform"
   ]
  },
  {
   "cell_type": "code",
   "execution_count": 2,
   "metadata": {},
   "outputs": [],
   "source": [
    "class Cosine(StationaryKernelMixin, NormalizedKernelMixin, Kernel):\n",
    "    \"\"\"Cosine kernel.\n",
    "\n",
    "    Parameters\n",
    "    ----------\n",
    "    period : float or ndarray of shape (n_features,), default=1.0\n",
    "        The period of the kernel. If a float, an isotropic kernel is\n",
    "        used. If an array, an anisotropic kernel is used where each dimension\n",
    "        of l defines the length-scale of the respective feature dimension.\n",
    "\n",
    "    period_bounds : pair of floats >= 0 or \"fixed\", default=(1e-5, 1e5)\n",
    "        The lower and upper bound on 'period'.\n",
    "        If set to \"fixed\", 'period' cannot be changed during\n",
    "        hyperparameter tuning.\n",
    "    \"\"\"\n",
    "\n",
    "    def __init__(self, period=1.0, period_bounds=(1e-5, 1e5)):\n",
    "        self.period = period\n",
    "        self.period_bounds = period_bounds\n",
    "\n",
    "    @property\n",
    "    def anisotropic(self):\n",
    "        return np.iterable(self.period) and len(self.period) > 1\n",
    "\n",
    "    @property\n",
    "    def hyperparameter_period(self):\n",
    "        if self.anisotropic:\n",
    "            return Hyperparameter(\n",
    "                \"period\",\n",
    "                \"numeric\",\n",
    "                self.period_bounds,\n",
    "                len(self.period),\n",
    "            )\n",
    "        return Hyperparameter(\"period\", \"numeric\", self.period_bounds)\n",
    "\n",
    "    def __call__(self, X, Y=None, eval_gradient=False):\n",
    "        \"\"\"Return the kernel k(X, Y) and optionally its gradient.\n",
    "\n",
    "        Parameters\n",
    "        ----------\n",
    "        X : ndarray of shape (n_samples_X, n_features)\n",
    "            Left argument of the returned kernel k(X, Y)\n",
    "\n",
    "        Y : ndarray of shape (n_samples_Y, n_features), default=None\n",
    "            Right argument of the returned kernel k(X, Y). If None, k(X, X)\n",
    "            if evaluated instead.\n",
    "\n",
    "        eval_gradient : bool, default=False\n",
    "            Determines whether the gradient with respect to the log of\n",
    "            the kernel hyperparameter is computed.\n",
    "            Only supported when Y is None.\n",
    "\n",
    "        Returns\n",
    "        -------\n",
    "        K : ndarray of shape (n_samples_X, n_samples_Y)\n",
    "            Kernel k(X, Y)\n",
    "\n",
    "        K_gradient : ndarray of shape (n_samples_X, n_samples_X, n_dims), \\\n",
    "                optional\n",
    "            The gradient of the kernel k(X, X) with respect to the log of the\n",
    "            hyperparameter of the kernel. Only returned when `eval_gradient`\n",
    "            is True.\n",
    "        \"\"\"\n",
    "        X = np.atleast_2d(X)\n",
    "        period = self.period\n",
    "        if Y is None:\n",
    "            dists = pdist(X / period, metric=\"euclidean\")\n",
    "            K = np.cos(2 * np.pi * dists)\n",
    "            # convert from upper-triangular matrix to square matrix\n",
    "            K = squareform(K)\n",
    "            np.fill_diagonal(K, 1)\n",
    "        else:\n",
    "            if eval_gradient:\n",
    "                raise ValueError(\"Gradient can only be evaluated when Y is None.\")\n",
    "            dists = cdist(X / period, Y / period, metric=\"euclidean\")\n",
    "            K = np.cos(2 * np.pi * dists)\n",
    "\n",
    "        if eval_gradient:\n",
    "            if self.hyperparameter_period.fixed:\n",
    "                # Hyperparameter l kept fixed\n",
    "                return K, np.empty((X.shape[0], X.shape[0], 0))\n",
    "            elif not self.anisotropic or period.shape[0] == 1:\n",
    "                # K_gradient = (K * squareform(dists))[:, :, np.newaxis]\n",
    "                K_gradient = squareform(2 * np.pi * np.sin(2 * np.pi * dists) * dists)[:, :, np.newaxis]\n",
    "                return K, K_gradient\n",
    "            elif self.anisotropic:\n",
    "                # We need to recompute the pairwise dimension-wise distances\n",
    "                K_gradient = (X[:, np.newaxis, :] - X[np.newaxis, :, :]) / (\n",
    "                    period\n",
    "                )\n",
    "                K_gradient *= 2 * np.pi * np.sin(2 * np.pi * K_gradient[..., np.newaxis])\n",
    "                return K, K_gradient\n",
    "        else:\n",
    "            return K\n",
    "\n",
    "    def __repr__(self):\n",
    "        if self.anisotropic:\n",
    "            return \"{0}(period=[{1}])\".format(\n",
    "                self.__class__.__name__,\n",
    "                \", \".join(map(\"{0:.3g}\".format, self.period)),\n",
    "            )\n",
    "        else:  # isotropic\n",
    "            return \"{0}(period={1:.3g})\".format(\n",
    "                self.__class__.__name__, np.ravel(self.period)[0]\n",
    "            )"
   ]
  },
  {
   "cell_type": "code",
   "execution_count": 3,
   "metadata": {},
   "outputs": [
    {
     "name": "stderr",
     "output_type": "stream",
     "text": [
      "/nas/longleaf/rhel8/apps/anaconda/2021.11.ood/lib/python3.9/site-packages/sklearn/gaussian_process/_gpr.py:506: ConvergenceWarning: lbfgs failed to converge (status=2):\n",
      "ABNORMAL_TERMINATION_IN_LNSRCH.\n",
      "\n",
      "Increase the number of iterations (max_iter) or scale the data as shown in:\n",
      "    https://scikit-learn.org/stable/modules/preprocessing.html\n",
      "  _check_optimize_result(\"lbfgs\", opt_res)\n"
     ]
    },
    {
     "data": {
      "text/plain": [
       "[2.781976270061316, 0.25000004264314263]"
      ]
     },
     "execution_count": 3,
     "metadata": {},
     "output_type": "execute_result"
    }
   ],
   "source": [
    "def construct_cosine_kernel(params):\n",
    "    kernel = params[0] * Cosine(period=params[1], period_bounds = (params[1] / 2, 2 * params[1]))\n",
    "    return kernel\n",
    "\n",
    "def simulate(n, true_params, initial_params, eps, num_restarts = 1):\n",
    "    x = np.linspace(start = 0, stop = 1, num = n).reshape(-1, 1)\n",
    "    shift = np.random.uniform(-1 / (4 * n), 1 / (4 * n), size=n).reshape(-1, 1)\n",
    "    x = x + shift\n",
    "    true_kernel = construct_cosine_kernel(true_params) + WhiteKernel(noise_level=eps)\n",
    "    true_gp = GaussianProcessRegressor(kernel = true_kernel, alpha=0)\n",
    "    y = np.squeeze(true_gp.sample_y(x, random_state=None))\n",
    "    #plt.plot(x, y)\n",
    "    kernel = construct_cosine_kernel(initial_params)\n",
    "    gp = GaussianProcessRegressor(kernel=kernel, n_restarts_optimizer=num_restarts, alpha=eps)\n",
    "    gp.fit(x, y)\n",
    "    \n",
    "    gp_params = gp.kernel_.get_params()\n",
    "    numerical_params = [value for key, value in gp_params.items() if isinstance(value, (int, float, np.float64))]\n",
    "    return numerical_params\n",
    "\n",
    "n = 500\n",
    "true_params = [1, 1 / 4]\n",
    "initial_params = [1, 1 / 4]\n",
    "eps = 1e-9\n",
    "simulate(n, true_params, initial_params, eps, 1)\n",
    "    "
   ]
  },
  {
   "cell_type": "code",
   "execution_count": 4,
   "metadata": {
    "tags": []
   },
   "outputs": [
    {
     "name": "stderr",
     "output_type": "stream",
     "text": [
      "/nas/longleaf/rhel8/apps/anaconda/2021.11.ood/lib/python3.9/site-packages/sklearn/gaussian_process/kernels.py:402: ConvergenceWarning: The optimal value found for dimension 0 of parameter k1__constant_value is close to the specified lower bound 1e-05. Decreasing the bound and calling fit again may find a better value.\n",
      "  warnings.warn(\"The optimal value found for \"\n"
     ]
    },
    {
     "name": "stdout",
     "output_type": "stream",
     "text": [
      "Execution time: 284.58104944229126 seconds\n"
     ]
    }
   ],
   "source": [
    "def get_param_estimates(sample_sizes, true_params, initial_params, eps, num_restarts, num_replicates):\n",
    "    # Collect estimates\n",
    "    estimates = []\n",
    "    for n in sample_sizes:\n",
    "        estimates.append([simulate(n, true_params, initial_params, eps, num_restarts) for _ in range(num_replicates)])\n",
    "    \n",
    "    param_estimates = [[[est[i] for est in sample] for sample in estimates] for i in range(len(true_params))]\n",
    "    flattened_estimates = np.array(param_estimates).reshape(len(true_params), -1)  # Flatten the nested list\n",
    "    np.savetxt('./results/cosine-simulation.txt', flattened_estimates)\n",
    "    return param_estimates\n",
    "    \n",
    "def generate_boxplots(param_estimates, true_params, sample_sizes, param_names):\n",
    "    # Create boxplots\n",
    "    fig, axs = plt.subplots(1, len(true_params), figsize=(12, 6))\n",
    "    for i, param_estimate in enumerate(param_estimates):\n",
    "        axs[i].boxplot(param_estimate, labels=sample_sizes, vert=True)\n",
    "        axs[i].axhline(y=true_params[i], color='r', alpha=0.5, linestyle='--')\n",
    "        axs[i].set_xticks(range(1, len(sample_sizes) + 1))\n",
    "        axs[i].set_xlabel('Sample Size', fontsize=15)\n",
    "        axs[i].set_title(f'{param_names[i]}', fontsize=20)\n",
    "\n",
    "    plt.tight_layout()\n",
    "    plt.savefig('./boxplots/cosine-simulation.png')\n",
    "    plt.show()\n",
    "\n",
    "# Timing execution\n",
    "start_time = time.time()\n",
    "\n",
    "# Parameters\n",
    "num_replicates = 100\n",
    "true_params = [1, 1 / 4]  # Example true parameters\n",
    "initial_params = [1, 1 / 4]\n",
    "eps = 0.1\n",
    "num_restarts = 0\n",
    "sample_sizes = [50, 100, 200, 500]  # Example sample sizes\n",
    "\n",
    "# Generate plots\n",
    "np.random.seed(2024)\n",
    "param_estimates = get_param_estimates(sample_sizes, true_params, initial_params, eps, num_restarts, num_replicates)\n",
    "\n",
    "end_time = time.time()\n",
    "execution_time = end_time - start_time\n",
    "print(\"Execution time:\", execution_time, \"seconds\")\n"
   ]
  },
  {
   "cell_type": "code",
   "execution_count": 5,
   "metadata": {},
   "outputs": [
    {
     "data": {
      "image/png": "[encoded data removed]",
      "text/plain": [
       "<Figure size 864x432 with 2 Axes>"
      ]
     },
     "metadata": {
      "needs_background": "light"
     },
     "output_type": "display_data"
    }
   ],
   "source": [
    "flattened_estimates = np.loadtxt('./results/cosine-simulation.txt')\n",
    "param_estimates = flattened_estimates.reshape(len(true_params), len(sample_sizes), num_replicates).tolist()\n",
    "param_names = [r'$\\hat{\\sigma}^2$', r'$\\hat{\\gamma}$']\n",
    "generate_boxplots(param_estimates, true_params, sample_sizes, param_names)"
   ]
  },
  {
   "cell_type": "code",
   "execution_count": 6,
   "metadata": {},
   "outputs": [
    {
     "name": "stdout",
     "output_type": "stream",
     "text": [
      "1**2 * Cosine(period=2)\n",
      "[[ 1.00000000e+00  7.07106781e-01  6.12323400e-17 -7.07106781e-01\n",
      "  -1.00000000e+00]\n",
      " [ 7.07106781e-01  1.00000000e+00  7.07106781e-01  6.12323400e-17\n",
      "  -7.07106781e-01]\n",
      " [ 6.12323400e-17  7.07106781e-01  1.00000000e+00  7.07106781e-01\n",
      "   6.12323400e-17]\n",
      " [-7.07106781e-01  6.12323400e-17  7.07106781e-01  1.00000000e+00\n",
      "   7.07106781e-01]\n",
      " [-1.00000000e+00 -7.07106781e-01  6.12323400e-17  7.07106781e-01\n",
      "   1.00000000e+00]]\n"
     ]
    },
    {
     "ename": "AttributeError",
     "evalue": "'tuple' object has no attribute 'eigenvectors'",
     "output_type": "error",
     "traceback": [
      "\u001b[0;31m---------------------------------------------------------------------------\u001b[0m",
      "\u001b[0;31mAttributeError\u001b[0m                            Traceback (most recent call last)",
      "\u001b[0;32m/tmp/ipykernel_408142/1943953120.py\u001b[0m in \u001b[0;36m<module>\u001b[0;34m\u001b[0m\n\u001b[1;32m     13\u001b[0m \u001b[0mn\u001b[0m \u001b[0;34m=\u001b[0m \u001b[0;36m5\u001b[0m\u001b[0;34m\u001b[0m\u001b[0;34m\u001b[0m\u001b[0m\n\u001b[1;32m     14\u001b[0m \u001b[0mparams\u001b[0m \u001b[0;34m=\u001b[0m \u001b[0;34m[\u001b[0m\u001b[0;36m1\u001b[0m\u001b[0;34m,\u001b[0m \u001b[0;36m2\u001b[0m\u001b[0;34m]\u001b[0m\u001b[0;34m\u001b[0m\u001b[0;34m\u001b[0m\u001b[0m\n\u001b[0;32m---> 15\u001b[0;31m \u001b[0mcheck\u001b[0m\u001b[0;34m(\u001b[0m\u001b[0mn\u001b[0m\u001b[0;34m,\u001b[0m \u001b[0mparams\u001b[0m\u001b[0;34m)\u001b[0m\u001b[0;34m\u001b[0m\u001b[0;34m\u001b[0m\u001b[0m\n\u001b[0m",
      "\u001b[0;32m/tmp/ipykernel_408142/1943953120.py\u001b[0m in \u001b[0;36mcheck\u001b[0;34m(n, params)\u001b[0m\n\u001b[1;32m      7\u001b[0m         \u001b[0mprint\u001b[0m\u001b[0;34m(\u001b[0m\u001b[0mK\u001b[0m\u001b[0;34m)\u001b[0m\u001b[0;34m\u001b[0m\u001b[0;34m\u001b[0m\u001b[0m\n\u001b[1;32m      8\u001b[0m         \u001b[0meigvals\u001b[0m \u001b[0;34m=\u001b[0m \u001b[0mnp\u001b[0m\u001b[0;34m.\u001b[0m\u001b[0msort\u001b[0m\u001b[0;34m(\u001b[0m\u001b[0mnp\u001b[0m\u001b[0;34m.\u001b[0m\u001b[0mlinalg\u001b[0m\u001b[0;34m.\u001b[0m\u001b[0meigvalsh\u001b[0m\u001b[0;34m(\u001b[0m\u001b[0mK\u001b[0m\u001b[0;34m)\u001b[0m\u001b[0;34m)\u001b[0m\u001b[0;34m\u001b[0m\u001b[0;34m\u001b[0m\u001b[0m\n\u001b[0;32m----> 9\u001b[0;31m         \u001b[0meigvecs\u001b[0m \u001b[0;34m=\u001b[0m \u001b[0mnp\u001b[0m\u001b[0;34m.\u001b[0m\u001b[0mlinalg\u001b[0m\u001b[0;34m.\u001b[0m\u001b[0meigh\u001b[0m\u001b[0;34m(\u001b[0m\u001b[0mK\u001b[0m\u001b[0;34m)\u001b[0m\u001b[0;34m.\u001b[0m\u001b[0meigenvectors\u001b[0m\u001b[0;34m\u001b[0m\u001b[0;34m\u001b[0m\u001b[0m\n\u001b[0m\u001b[1;32m     10\u001b[0m         \u001b[0mprint\u001b[0m\u001b[0;34m(\u001b[0m\u001b[0mnp\u001b[0m\u001b[0;34m.\u001b[0m\u001b[0mlinalg\u001b[0m\u001b[0;34m.\u001b[0m\u001b[0mcond\u001b[0m\u001b[0;34m(\u001b[0m\u001b[0mK\u001b[0m\u001b[0;34m)\u001b[0m\u001b[0;34m)\u001b[0m\u001b[0;34m\u001b[0m\u001b[0;34m\u001b[0m\u001b[0m\n\u001b[1;32m     11\u001b[0m         \u001b[0mprint\u001b[0m\u001b[0;34m(\u001b[0m\u001b[0meigvals\u001b[0m\u001b[0;34m)\u001b[0m\u001b[0;34m\u001b[0m\u001b[0;34m\u001b[0m\u001b[0m\n",
      "\u001b[0;31mAttributeError\u001b[0m: 'tuple' object has no attribute 'eigenvectors'"
     ]
    }
   ],
   "source": [
    "def check(n, params):\n",
    "        kernel = construct_cosine_kernel(params)\n",
    "        print(kernel)\n",
    "        x = np.linspace(start = 0, stop = 1, num = n).reshape(-1, 1)\n",
    "        shift = np.random.uniform(0, 1, size=n).reshape(-1, 1)\n",
    "        K = kernel(x)\n",
    "        print(K)\n",
    "        eigvals = np.sort(np.linalg.eigvalsh(K))\n",
    "        eigvecs = np.linalg.eigh(K).eigenvectors\n",
    "        print(np.linalg.cond(K))\n",
    "        print(eigvals)\n",
    "    \n",
    "n = 5\n",
    "params = [1, 2]\n",
    "check(n, params)"
   ]
  }
 ],
 "metadata": {
  "kernelspec": {
   "display_name": "Python 3 (ipykernel)",
   "language": "python",
   "name": "python3"
  },
  "language_info": {
   "codemirror_mode": {
    "name": "ipython",
    "version": 3
   },
   "file_extension": ".py",
   "mimetype": "text/x-python",
   "name": "python",
   "nbconvert_exporter": "python",
   "pygments_lexer": "ipython3",
   "version": "3.9.7"
  }
 },
 "nbformat": 4,
 "nbformat_minor": 4
}
