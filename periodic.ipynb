{
 "cells": [
  {
   "cell_type": "code",
   "execution_count": 1,
   "metadata": {},
   "outputs": [],
   "source": [
    "import numpy as np\n",
    "import scipy\n",
    "from matplotlib import pyplot as plt\n",
    "import time\n",
    "from sklearn.gaussian_process.kernels import RBF, WhiteKernel, ExpSineSquared\n",
    "from sklearn.gaussian_process import GaussianProcessRegressor"
   ]
  },
  {
   "cell_type": "code",
   "execution_count": 2,
   "metadata": {},
   "outputs": [
    {
     "data": {
      "text/plain": [
       "[1.021955135430514, 0.0034073917528728306, 2.0444351076872733]"
      ]
     },
     "execution_count": 2,
     "metadata": {},
     "output_type": "execute_result"
    }
   ],
   "source": [
    "def construct_periodic_kernel(params):\n",
    "    sigma2 = params[0]\n",
    "    l = params[1]\n",
    "    p = params[2]\n",
    "    kernel = sigma2 * ExpSineSquared(length_scale=l, periodicity=p)\n",
    "    return kernel\n",
    "\n",
    "def simulate(n, true_params, initial_params, eps, num_restarts = 1):\n",
    "    x = np.linspace(start = 0, stop = 1, num = n).reshape(-1, 1)\n",
    "    shift = np.random.uniform(-1 / (4 * n), 1 / (4 * n), size=n).reshape(-1, 1)\n",
    "    x = x + shift\n",
    "    true_kernel = construct_periodic_kernel(true_params) + WhiteKernel(noise_level=eps)\n",
    "    true_gp = GaussianProcessRegressor(kernel = true_kernel, alpha=0)\n",
    "    y = np.squeeze(true_gp.sample_y(x, random_state=None))\n",
    "    #plt.plot(x, y)\n",
    "    \n",
    "    kernel = construct_periodic_kernel(initial_params)\n",
    "    gp = GaussianProcessRegressor(kernel=kernel, n_restarts_optimizer=num_restarts, alpha=eps)\n",
    "    gp.fit(x, y)\n",
    "    \n",
    "    gp_params = gp.kernel_.get_params()\n",
    "    params = [gp_params['k1__constant_value'], \n",
    "              gp_params['k2__length_scale'],\n",
    "              gp_params['k2__periodicity']]\n",
    "    return params\n",
    "\n",
    "n = 500\n",
    "true_params = [1, 1/300, 2]\n",
    "initial_params = [1 * p for p in true_params]\n",
    "eps = 0.1\n",
    "simulate(n, true_params, initial_params, eps, 0)\n",
    "    "
   ]
  },
  {
   "cell_type": "code",
   "execution_count": 3,
   "metadata": {
    "tags": []
   },
   "outputs": [
    {
     "name": "stdout",
     "output_type": "stream",
     "text": [
      "Execution time: 358.8249716758728 seconds\n"
     ]
    }
   ],
   "source": [
    "# Function to generate plots\n",
    "def get_param_estimates(sample_sizes, true_params, initial_params, eps, num_restarts, num_replicates):\n",
    "    # Collect estimates\n",
    "    estimates = []\n",
    "    for n in sample_sizes:\n",
    "        estimates.append([simulate(n, true_params, initial_params, eps, num_restarts) for _ in range(num_replicates)])\n",
    "    \n",
    "    param_estimates = [[[est[i] for est in sample] for sample in estimates] for i in range(len(true_params))]\n",
    "    flattened_estimates = np.array(param_estimates).reshape(len(true_params), -1)  # Flatten the nested list\n",
    "    np.savetxt('./results/periodic-simulation.txt', flattened_estimates)\n",
    "    return param_estimates\n",
    "    \n",
    "def generate_boxplots(param_estimates, true_params, sample_sizes, param_names):\n",
    "    # Create boxplots\n",
    "    fig, axs = plt.subplots(1, len(true_params), figsize=(18, 6))\n",
    "    for i, param_estimate in enumerate(param_estimates):\n",
    "        axs[i].boxplot(param_estimate, labels=sample_sizes, vert=True)\n",
    "        axs[i].axhline(y=true_params[i], color='r', alpha=0.5, linestyle='--')\n",
    "        axs[i].set_xticks(range(1, len(sample_sizes) + 1))\n",
    "        axs[i].set_xlabel('Sample Size', fontsize=15)\n",
    "        axs[i].set_title(f'{param_names[i]}', fontsize=20)\n",
    "\n",
    "    plt.tight_layout()\n",
    "    plt.savefig('./boxplots/periodic-simulation.png')\n",
    "    plt.show()\n",
    "\n",
    "# Timing execution\n",
    "start_time = time.time()\n",
    "\n",
    "# Parameters\n",
    "num_replicates = 100\n",
    "true_params = [1,\n",
    "               1/300,\n",
    "               4]  # Example true parameters\n",
    "initial_params = [1.2 * p for p in true_params]\n",
    "eps = 0.1\n",
    "num_restarts = 0\n",
    "sample_sizes = [50, 100, 200, 500]  # Example sample sizes\n",
    "\n",
    "# Generate plots\n",
    "np.random.seed(2024)\n",
    "param_estimates = get_param_estimates(sample_sizes, true_params, initial_params, eps, num_restarts, num_replicates)\n",
    "\n",
    "end_time = time.time()\n",
    "execution_time = end_time - start_time\n",
    "print(\"Execution time:\", execution_time, \"seconds\")\n"
   ]
  },
  {
   "cell_type": "code",
   "execution_count": 4,
   "metadata": {},
   "outputs": [
    {
     "data": {
      "image/png": "[encoded data removed]",
      "text/plain": [
       "<Figure size 1296x432 with 3 Axes>"
      ]
     },
     "metadata": {
      "needs_background": "light"
     },
     "output_type": "display_data"
    }
   ],
   "source": [
    "flattened_estimates = np.loadtxt('./results/periodic-simulation.txt')\n",
    "param_estimates = flattened_estimates.reshape(len(true_params), len(sample_sizes), num_replicates).tolist()\n",
    "param_names = [r'$\\hat{\\sigma}^2$', r'$\\hat{\\ell}$', r'$\\hat{\\gamma}$']\n",
    "generate_boxplots(param_estimates, true_params, sample_sizes, param_names)"
   ]
  },
  {
   "cell_type": "code",
   "execution_count": 5,
   "metadata": {},
   "outputs": [
    {
     "name": "stdout",
     "output_type": "stream",
     "text": [
      "1**2 * ExpSineSquared(length_scale=0.0025, periodicity=2)\n",
      "1.1832311610850317\n",
      "[0.91607909 0.91608403 0.91609228 0.91610383 0.91611867 0.91613681\n",
      " 0.91615825 0.91618299 0.91621102 0.91624234 0.91627696 0.91631487\n",
      " 0.91635606 0.91640055 0.91644832 0.91649938 0.91655372 0.91661134\n",
      " 0.91667224 0.91673641 0.91680386 0.91687457 0.91694856 0.91702581\n",
      " 0.91710632 0.9171901  0.91727712 0.9173674  0.91746093 0.9175577\n",
      " 0.91765771 0.91776096 0.91786745 0.91797716 0.9180901  0.91820625\n",
      " 0.91832563 0.91844821 0.918574   0.91870299 0.91883518 0.91897055\n",
      " 0.91910912 0.91925086 0.91939578 0.91954386 0.91969511 0.91984952\n",
      " 0.92000707 0.92016778 0.92033162 0.92049859 0.92066869 0.9208419\n",
      " 0.92101823 0.92119767 0.9213802  0.92156582 0.92175453 0.92194631\n",
      " 0.92214116 0.92233907 0.92254004 0.92274405 0.9229511  0.92316117\n",
      " 0.92337427 0.92359038 0.9238095  0.92403161 0.9242567  0.92448478\n",
      " 0.92471582 0.92494982 0.92518678 0.92542667 0.9256695  0.92591525\n",
      " 0.92616391 0.92641547 0.92666993 0.92692727 0.92718748 0.92745056\n",
      " 0.92771649 0.92798526 0.92825686 0.92853128 0.92880851 0.92908854\n",
      " 0.92937136 0.92965696 0.92994532 0.93023644 0.9305303  0.93082689\n",
      " 0.9311262  0.93142821 0.93173293 0.93204033 0.9323504  0.93266313\n",
      " 0.9329785  0.93329652 0.93361715 0.9339404  0.93426624 0.93459467\n",
      " 0.93492566 0.93525922 0.93559532 0.93593396 0.93627511 0.93661877\n",
      " 0.93696492 0.93731356 0.93766465 0.9380182  0.93837418 0.93873259\n",
      " 0.9390934  0.93945661 0.9398222  0.94019016 0.94056047 0.94093311\n",
      " 0.94130808 0.94168536 0.94206493 0.94244678 0.94283089 0.94321725\n",
      " 0.94360584 0.94399665 0.94438966 0.94478486 0.94518223 0.94558175\n",
      " 0.94598341 0.9463872  0.9467931  0.94720109 0.94761115 0.94802328\n",
      " 0.94843745 0.94885365 0.94927186 0.94969206 0.95011424 0.95053838\n",
      " 0.95096447 0.95139249 0.95182242 0.95225424 0.95268794 0.9531235\n",
      " 0.95356091 0.95400014 0.95444118 0.95488401 0.95532862 0.95577498\n",
      " 0.95622308 0.95667291 0.95712444 0.95757765 0.95803253 0.95848907\n",
      " 0.95894723 0.95940701 0.95986839 0.96033135 0.96079586 0.96126192\n",
      " 0.9617295  0.96219859 0.96266916 0.9631412  0.96361469 0.96408962\n",
      " 0.96456595 0.96504368 0.96552278 0.96600324 0.96648504 0.96696816\n",
      " 0.96745257 0.96793827 0.96842522 0.96891342 0.96940284 0.96989347\n",
      " 0.97038528 0.97087825 0.97137237 0.97186762 0.97236397 0.97286141\n",
      " 0.97335992 0.97385948 0.97436006 0.97486166 0.97536424 0.97586779\n",
      " 0.97637229 0.97687772 0.97738406 0.97789129 0.97839939 0.97890834\n",
      " 0.97941812 0.97992871 0.9804401  0.98095225 0.98146515 0.98197877\n",
      " 0.98249311 0.98300814 0.98352384 0.98404018 0.98455715 0.98507474\n",
      " 0.9855929  0.98611164 0.98663092 0.98715073 0.98767105 0.98819185\n",
      " 0.98871311 0.98923482 0.98975696 0.99027949 0.99080241 0.9913257\n",
      " 0.99184932 0.99237327 0.99289751 0.99342204 0.99394682 0.99447185\n",
      " 0.99499709 0.99552253 0.99604815 0.99657392 0.99709983 0.99762585\n",
      " 0.99815197 0.99867816 0.9992044  0.99973068 1.00025697 1.00078324\n",
      " 1.00130949 1.00183569 1.00236181 1.00288784 1.00341376 1.00393955\n",
      " 1.00446518 1.00499064 1.0055159  1.00604095 1.00656576 1.00709031\n",
      " 1.00761458 1.00813856 1.00866221 1.00918553 1.00970848 1.01023106\n",
      " 1.01075323 1.01127498 1.01179629 1.01231713 1.01283749 1.01335735\n",
      " 1.01387668 1.01439547 1.01491369 1.01543133 1.01594836 1.01646476\n",
      " 1.01698052 1.01749561 1.01801001 1.01852371 1.01903667 1.01954889\n",
      " 1.02006034 1.02057101 1.02108086 1.02158989 1.02209807 1.02260538\n",
      " 1.0231118  1.02361731 1.0241219  1.02462554 1.02512821 1.02562989\n",
      " 1.02613057 1.02663022 1.02712882 1.02762635 1.02812281 1.02861815\n",
      " 1.02911237 1.02960545 1.03009736 1.03058809 1.03107762 1.03156592\n",
      " 1.03205299 1.03253879 1.03302332 1.03350655 1.03398846 1.03446904\n",
      " 1.03494826 1.0354261  1.03590256 1.0363776  1.03685122 1.03732338\n",
      " 1.03779408 1.03826329 1.038731   1.03919718 1.03966183 1.04012491\n",
      " 1.04058642 1.04104633 1.04150463 1.0419613  1.04241632 1.04286967\n",
      " 1.04332133 1.0437713  1.04421954 1.04466604 1.04511079 1.04555376\n",
      " 1.04599494 1.04643432 1.04687186 1.04730757 1.04774141 1.04817338\n",
      " 1.04860346 1.04903162 1.04945786 1.04988215 1.05030448 1.05072483\n",
      " 1.05114319 1.05155954 1.05197386 1.05238614 1.05279635 1.05320449\n",
      " 1.05361054 1.05401449 1.0544163  1.05481598 1.0552135  1.05560886\n",
      " 1.05600202 1.05639299 1.05678173 1.05716824 1.05755251 1.05793451\n",
      " 1.05831424 1.05869167 1.05906679 1.05943959 1.05981006 1.06017817\n",
      " 1.06054392 1.06090728 1.06126825 1.06162681 1.06198295 1.06233665\n",
      " 1.0626879  1.06303669 1.06338299 1.06372681 1.06406811 1.0644069\n",
      " 1.06474316 1.06507687 1.06540802 1.0657366  1.06606259 1.06638599\n",
      " 1.06670677 1.06702493 1.06734046 1.06765334 1.06796355 1.0682711\n",
      " 1.06857596 1.06887812 1.06917758 1.06947431 1.06976832 1.07005958\n",
      " 1.07034808 1.07063382 1.07091678 1.07119695 1.07147432 1.07174888\n",
      " 1.07202062 1.07228953 1.07255559 1.0728188  1.07307915 1.07333662\n",
      " 1.07359121 1.0738429  1.07409169 1.07433757 1.07458053 1.07482055\n",
      " 1.07505762 1.07529175 1.07552292 1.07575111 1.07597633 1.07619856\n",
      " 1.07641779 1.07663401 1.07684723 1.07705742 1.07726458 1.0774687\n",
      " 1.07766977 1.07786779 1.07806275 1.07825464 1.07844345 1.07862918\n",
      " 1.07881181 1.07899134 1.07916777 1.07934108 1.07951128 1.07967834\n",
      " 1.07984227 1.08000307 1.08016071 1.08031521 1.08046654 1.08061471\n",
      " 1.08075971 1.08090153 1.08104017 1.08117563 1.08130789 1.08143696\n",
      " 1.08156282 1.08168547 1.08180491 1.08192114 1.08203414 1.08214391\n",
      " 1.08225046 1.08235377 1.08245384 1.08255067 1.08264425 1.08273458\n",
      " 1.08282166 1.08290548 1.08298604 1.08306333 1.08313736 1.08320812\n",
      " 1.08327561 1.08333982 1.08340075 1.08345841 1.08351278 1.08356387\n",
      " 1.08361167 1.08365618 1.0836974  1.08373533 1.08376997 1.08380131\n",
      " 1.08382936 1.08385411 1.08387556 1.08389371 1.08390856 1.08392012\n",
      " 1.08392837 1.08393332]\n"
     ]
    }
   ],
   "source": [
    "def check(n, params):\n",
    "        kernel = construct_periodic_kernel(params)\n",
    "        print(kernel)\n",
    "        x = np.linspace(0, 1, n)\n",
    "        K = kernel([[p] for p in x])\n",
    "        eigvals = np.sort(np.linalg.eigvals(K))\n",
    "        print(np.linalg.cond(K))\n",
    "        print(eigvals)\n",
    "    \n",
    "n = 500\n",
    "params = [1, 1/400, 2]\n",
    "check(n, params)"
   ]
  },
  {
   "cell_type": "code",
   "execution_count": 6,
   "metadata": {},
   "outputs": [
    {
     "data": {
      "text/plain": [
       "array([[1, 3],\n",
       "       [2, 4],\n",
       "       [3, 2],\n",
       "       [4, 1]])"
      ]
     },
     "execution_count": 6,
     "metadata": {},
     "output_type": "execute_result"
    }
   ],
   "source": [
    "y = [1, 2, 3, 4]\n",
    "z = [3, 4, 2, 1]\n",
    "v = np.transpose([y, z])\n",
    "v.shape\n",
    "v"
   ]
  },
  {
   "cell_type": "code",
   "execution_count": null,
   "metadata": {},
   "outputs": [],
   "source": []
  }
 ],
 "metadata": {
  "kernelspec": {
   "display_name": "Python 3 (ipykernel)",
   "language": "python",
   "name": "python3"
  },
  "language_info": {
   "codemirror_mode": {
    "name": "ipython",
    "version": 3
   },
   "file_extension": ".py",
   "mimetype": "text/x-python",
   "name": "python",
   "nbconvert_exporter": "python",
   "pygments_lexer": "ipython3",
   "version": "3.9.7"
  }
 },
 "nbformat": 4,
 "nbformat_minor": 4
}
