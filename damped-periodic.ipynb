{
 "cells": [
  {
   "cell_type": "code",
   "execution_count": 1,
   "metadata": {},
   "outputs": [],
   "source": [
    "import numpy as np\n",
    "import scipy\n",
    "from matplotlib import pyplot as plt\n",
    "import time\n",
    "from sklearn.gaussian_process.kernels import RBF, WhiteKernel, ExpSineSquared\n",
    "from sklearn.gaussian_process import GaussianProcessRegressor"
   ]
  },
  {
   "cell_type": "code",
   "execution_count": 2,
   "metadata": {},
   "outputs": [
    {
     "data": {
      "text/plain": [
       "[1.0163687108489836,\n",
       " 0.005197226020399493,\n",
       " 0.009997173928961626,\n",
       " 1.9548460785649173]"
      ]
     },
     "execution_count": 2,
     "metadata": {},
     "output_type": "execute_result"
    }
   ],
   "source": [
    "def construct_damped_periodic_kernel(params):\n",
    "    kernel = params[0] * RBF(length_scale=params[1]) * ExpSineSquared(length_scale=params[2], periodicity=params[3])\n",
    "    return kernel\n",
    "\n",
    "def simulate(n, true_params, initial_params, eps, num_restarts = 1):\n",
    "    x = np.linspace(start = 0, stop = 1, num = n).reshape(-1, 1)\n",
    "    shift = np.random.uniform(-1 / (4 * n), 1 / (4 * n), size=n).reshape(-1, 1)\n",
    "    x = x + shift\n",
    "    true_kernel = construct_damped_periodic_kernel(true_params) + WhiteKernel(noise_level=eps)\n",
    "    true_gp = GaussianProcessRegressor(kernel=true_kernel, alpha=0)\n",
    "    y = np.squeeze(true_gp.sample_y(x, random_state=None))\n",
    "    #plt.plot(x, y)\n",
    "    \n",
    "    kernel = construct_damped_periodic_kernel(initial_params)\n",
    "    gp = GaussianProcessRegressor(kernel=kernel, n_restarts_optimizer=num_restarts, alpha=eps)\n",
    "    gp.fit(x, y)\n",
    "    \n",
    "    gp_params = gp.kernel_.get_params()\n",
    "    numerical_params = [value for key, value in gp_params.items() if isinstance(value, (int, float, np.float64))]\n",
    "    return numerical_params\n",
    "\n",
    "n = 500\n",
    "true_params = [1, 1/200, 1/100, 2]\n",
    "initial_params = [1.1 * p for p in true_params]\n",
    "eps = 0.1\n",
    "simulate(n, true_params, initial_params, eps, 0)\n",
    "    "
   ]
  },
  {
   "cell_type": "code",
   "execution_count": 3,
   "metadata": {
    "tags": []
   },
   "outputs": [
    {
     "name": "stdout",
     "output_type": "stream",
     "text": [
      "Execution time: 318.01378202438354 seconds\n"
     ]
    }
   ],
   "source": [
    "# Function to generate plots\n",
    "def get_param_estimates(sample_sizes, true_params, initial_params, eps, num_restarts, num_replicates):\n",
    "    # Collect estimates\n",
    "    estimates = []\n",
    "    for n in sample_sizes:\n",
    "        estimates.append([simulate(n, true_params, initial_params, eps, num_restarts) for _ in range(num_replicates)])\n",
    "    \n",
    "    param_estimates = [[[est[i] for est in sample] for sample in estimates] for i in range(len(true_params))]\n",
    "    flattened_estimates = np.array(param_estimates).reshape(len(true_params), -1)  # Flatten the nested list\n",
    "    np.savetxt('./results/damped-periodic-simulation.txt', flattened_estimates)\n",
    "    return param_estimates\n",
    "    \n",
    "def generate_boxplots(param_estimates, true_params, sample_sizes, param_names):\n",
    "    # Create boxplots\n",
    "    fig, axs = plt.subplots(1, len(true_params), figsize=(24, 6))\n",
    "    for i, param_estimate in enumerate(param_estimates):\n",
    "        axs[i].boxplot(param_estimate, labels=sample_sizes, vert=True)\n",
    "        axs[i].axhline(y=true_params[i], color='r', alpha=0.5, linestyle='--')\n",
    "        axs[i].set_xticks(range(1, len(sample_sizes) + 1))\n",
    "        axs[i].set_xlabel('Sample Size', fontsize=15)\n",
    "        axs[i].set_title(f'{param_names[i]}', fontsize=20)\n",
    "\n",
    "    plt.tight_layout()\n",
    "    plt.savefig('./boxplots/damped-periodic-simulation.png')\n",
    "    plt.show()\n",
    "\n",
    "# Timing execution\n",
    "start_time = time.time()\n",
    "\n",
    "# Parameters\n",
    "num_replicates = 100\n",
    "true_params = [1, 1/200, 1/100, 4]\n",
    "initial_params = [1 * p for p in true_params]\n",
    "eps = 0.1\n",
    "num_restarts = 0\n",
    "sample_sizes = [50, 100, 200, 500]  # Example sample sizes\n",
    "\n",
    "np.random.seed(2024)\n",
    "param_estimates = get_param_estimates(sample_sizes, true_params, initial_params, eps, num_restarts, num_replicates)\n",
    "\n",
    "end_time = time.time()\n",
    "execution_time = end_time - start_time\n",
    "print(\"Execution time:\", execution_time, \"seconds\")\n"
   ]
  },
  {
   "cell_type": "code",
   "execution_count": 4,
   "metadata": {},
   "outputs": [
    {
     "data": {
      "image/png": "[encoded data removed]",
      "text/plain": [
       "<Figure size 1728x432 with 4 Axes>"
      ]
     },
     "metadata": {
      "needs_background": "light"
     },
     "output_type": "display_data"
    }
   ],
   "source": [
    "flattened_estimates = np.loadtxt('./results/damped-periodic-simulation.txt')\n",
    "param_estimates = flattened_estimates.reshape(len(true_params), len(sample_sizes), num_replicates).tolist()\n",
    "param_names = [r'$\\hat{\\sigma}^2$', r'$\\hat{\\ell_1}$', r'$\\hat{\\ell_2}$', r'$\\hat{\\gamma}$']\n",
    "generate_boxplots(param_estimates, true_params, sample_sizes, param_names)"
   ]
  },
  {
   "cell_type": "code",
   "execution_count": 5,
   "metadata": {
    "tags": []
   },
   "outputs": [
    {
     "name": "stdout",
     "output_type": "stream",
     "text": [
      "1**2 * RBF(length_scale=0.005) * ExpSineSquared(length_scale=0.01, periodicity=4)\n",
      "88859919.39773959\n",
      "[5.53461941e-08 5.58310050e-08 5.66417824e-08 5.77826775e-08\n",
      " 5.92595275e-08 6.10798803e-08 6.32530278e-08 6.57900451e-08\n",
      " 6.87038397e-08 7.20092055e-08 7.57228881e-08 7.98636553e-08\n",
      " 8.44523785e-08 8.95121216e-08 9.50682391e-08 1.01148485e-07\n",
      " 1.07783129e-07 1.15005085e-07 1.22850051e-07 1.31356659e-07\n",
      " 1.40566632e-07 1.50524967e-07 1.61280113e-07 1.72884176e-07\n",
      " 1.85393132e-07 1.98867059e-07 2.13370378e-07 2.28972119e-07\n",
      " 2.45746197e-07 2.63771711e-07 2.83133260e-07 3.03921282e-07\n",
      " 3.26232410e-07 3.50169854e-07 3.75843806e-07 4.03371870e-07\n",
      " 4.32879520e-07 4.64500581e-07 4.98377743e-07 5.34663112e-07\n",
      " 5.73518778e-07 6.15117434e-07 6.59643021e-07 7.07291414e-07\n",
      " 7.58271152e-07 8.12804203e-07 8.71126783e-07 9.33490211e-07\n",
      " 1.00016182e-06 1.07142594e-06 1.14758488e-06 1.22896004e-06\n",
      " 1.31589302e-06 1.40874683e-06 1.50790718e-06 1.61378380e-06\n",
      " 1.72681185e-06 1.84745342e-06 1.97619913e-06 2.11356974e-06\n",
      " 2.26011796e-06 2.41643027e-06 2.58312888e-06 2.76087379e-06\n",
      " 2.95036494e-06 3.15234453e-06 3.36759939e-06 3.59696355e-06\n",
      " 3.84132089e-06 4.10160795e-06 4.37881691e-06 4.67399870e-06\n",
      " 4.98826628e-06 5.32279807e-06 5.67884163e-06 6.05771742e-06\n",
      " 6.46082287e-06 6.88963656e-06 7.34572267e-06 7.83073564e-06\n",
      " 8.34642508e-06 8.89464091e-06 9.47733876e-06 1.00965856e-05\n",
      " 1.07545659e-05 1.14535874e-05 1.21960884e-05 1.29846439e-05\n",
      " 1.38219733e-05 1.47109479e-05 1.56545986e-05 1.66561245e-05\n",
      " 1.77189014e-05 1.88464913e-05 2.00426513e-05 2.13113444e-05\n",
      " 2.26567495e-05 2.40832727e-05 2.55955584e-05 2.71985018e-05\n",
      " 2.88972612e-05 3.06972713e-05 3.26042570e-05 3.46242479e-05\n",
      " 3.67635929e-05 3.90289767e-05 4.14274357e-05 4.39663753e-05\n",
      " 4.66535881e-05 4.94972724e-05 5.25060519e-05 5.56889962e-05\n",
      " 5.90556419e-05 6.26160153e-05 6.63806551e-05 7.03606370e-05\n",
      " 7.45675988e-05 7.90137670e-05 8.37119837e-05 8.86757356e-05\n",
      " 9.39191840e-05 9.94571952e-05 1.05305373e-04 1.11480094e-04\n",
      " 1.17998538e-04 1.24878731e-04 1.32139578e-04 1.39800904e-04\n",
      " 1.47883495e-04 1.56409142e-04 1.65400682e-04 1.74882049e-04\n",
      " 1.84878317e-04 1.95415752e-04 2.06521863e-04 2.18225456e-04\n",
      " 2.30556691e-04 2.43547137e-04 2.57229832e-04 2.71639349e-04\n",
      " 2.86811856e-04 3.02785184e-04 3.19598899e-04 3.37294368e-04\n",
      " 3.55914841e-04 3.75505519e-04 3.96113643e-04 4.17788570e-04\n",
      " 4.40581859e-04 4.64547363e-04 4.89741318e-04 5.16222436e-04\n",
      " 5.44052006e-04 5.73293994e-04 6.04015145e-04 6.36285094e-04\n",
      " 6.70176477e-04 7.05765045e-04 7.43129782e-04 7.82353029e-04\n",
      " 8.23520611e-04 8.66721968e-04 9.12050284e-04 9.59602634e-04\n",
      " 1.00948012e-03 1.06178803e-03 1.11663596e-03 1.17413801e-03\n",
      " 1.23441293e-03 1.29758426e-03 1.36378055e-03 1.43313547e-03\n",
      " 1.50578807e-03 1.58188289e-03 1.66157020e-03 1.74500618e-03\n",
      " 1.83235311e-03 1.92377958e-03 2.01946074e-03 2.11957845e-03\n",
      " 2.22432155e-03 2.33388608e-03 2.44847552e-03 2.56830101e-03\n",
      " 2.69358160e-03 2.82454453e-03 2.96142546e-03 3.10446873e-03\n",
      " 3.25392766e-03 3.41006480e-03 3.57315223e-03 3.74347183e-03\n",
      " 3.92131559e-03 4.10698592e-03 4.30079593e-03 4.50306976e-03\n",
      " 4.71414291e-03 4.93436256e-03 5.16408789e-03 5.40369044e-03\n",
      " 5.65355445e-03 5.91407720e-03 6.18566938e-03 6.46875546e-03\n",
      " 6.76377406e-03 7.07117830e-03 7.39143623e-03 7.72503119e-03\n",
      " 8.07246219e-03 8.43424437e-03 8.81090933e-03 9.20300560e-03\n",
      " 9.61109905e-03 1.00357733e-02 1.04776301e-02 1.09372899e-02\n",
      " 1.14153922e-02 1.19125958e-02 1.24295798e-02 1.29670434e-02\n",
      " 1.35257068e-02 1.41063114e-02 1.47096205e-02 1.53364195e-02\n",
      " 1.59875166e-02 1.66637432e-02 1.73659544e-02 1.80950292e-02\n",
      " 1.88518716e-02 1.96374102e-02 2.04525995e-02 2.12984200e-02\n",
      " 2.21758788e-02 2.30860097e-02 2.40298744e-02 2.50085622e-02\n",
      " 2.60231911e-02 2.70749079e-02 2.81648888e-02 2.92943398e-02\n",
      " 3.04644973e-02 3.16766285e-02 3.29320316e-02 3.42320369e-02\n",
      " 3.55780063e-02 3.69713346e-02 3.84134494e-02 3.99058119e-02\n",
      " 4.14499170e-02 4.30472935e-02 4.46995053e-02 4.64081509e-02\n",
      " 4.81748643e-02 5.00013150e-02 5.18892087e-02 5.38402873e-02\n",
      " 5.58563294e-02 5.79391506e-02 6.00906036e-02 6.23125786e-02\n",
      " 6.46070033e-02 6.69758437e-02 6.94211036e-02 7.19448251e-02\n",
      " 7.45490889e-02 7.72360140e-02 8.00077582e-02 8.28665180e-02\n",
      " 8.58145286e-02 8.88540641e-02 9.19874372e-02 9.52169996e-02\n",
      " 9.85451415e-02 1.01974292e-01 1.05506917e-01 1.09145523e-01\n",
      " 1.12892654e-01 1.16750890e-01 1.20722851e-01 1.24811192e-01\n",
      " 1.29018607e-01 1.33347824e-01 1.37801610e-01 1.42382765e-01\n",
      " 1.47094125e-01 1.51938560e-01 1.56918974e-01 1.62038306e-01\n",
      " 1.67299525e-01 1.72705632e-01 1.78259659e-01 1.83964671e-01\n",
      " 1.89823757e-01 1.95840038e-01 2.02016662e-01 2.08356801e-01\n",
      " 2.14863653e-01 2.21540441e-01 2.28390409e-01 2.35416824e-01\n",
      " 2.42622972e-01 2.50012157e-01 2.57587701e-01 2.65352942e-01\n",
      " 2.73311231e-01 2.81465933e-01 2.89820423e-01 2.98378085e-01\n",
      " 3.07142310e-01 3.16116495e-01 3.25304041e-01 3.34708349e-01\n",
      " 3.44332821e-01 3.54180855e-01 3.64255846e-01 3.74561180e-01\n",
      " 3.85100237e-01 3.95876381e-01 4.06892966e-01 4.18153328e-01\n",
      " 4.29660784e-01 4.41418631e-01 4.53430139e-01 4.65698556e-01\n",
      " 4.78227096e-01 4.91018943e-01 5.04077248e-01 5.17405120e-01\n",
      " 5.31005632e-01 5.44881809e-01 5.59036633e-01 5.73473034e-01\n",
      " 5.88193891e-01 6.03202025e-01 6.18500200e-01 6.34091118e-01\n",
      " 6.49977413e-01 6.66161654e-01 6.82646334e-01 6.99433875e-01\n",
      " 7.16526617e-01 7.33926820e-01 7.51636657e-01 7.69658214e-01\n",
      " 7.87993483e-01 8.06644363e-01 8.25612651e-01 8.44900044e-01\n",
      " 8.64508130e-01 8.84438392e-01 9.04692196e-01 9.25270794e-01\n",
      " 9.46175318e-01 9.67406776e-01 9.88966051e-01 1.01085390e+00\n",
      " 1.03307093e+00 1.05561763e+00 1.07849434e+00 1.10170127e+00\n",
      " 1.12523846e+00 1.14910583e+00 1.17330311e+00 1.19782990e+00\n",
      " 1.22268565e+00 1.24786962e+00 1.27338092e+00 1.29921850e+00\n",
      " 1.32538113e+00 1.35186740e+00 1.37867574e+00 1.40580439e+00\n",
      " 1.43325142e+00 1.46101471e+00 1.48909194e+00 1.51748064e+00\n",
      " 1.54617811e+00 1.57518148e+00 1.60448768e+00 1.63409345e+00\n",
      " 1.66399533e+00 1.69418965e+00 1.72467257e+00 1.75544002e+00\n",
      " 1.78648773e+00 1.81781124e+00 1.84940588e+00 1.88126677e+00\n",
      " 1.91338883e+00 1.94576676e+00 1.97839509e+00 2.01126810e+00\n",
      " 2.04437988e+00 2.07772433e+00 2.11129511e+00 2.14508570e+00\n",
      " 2.17908938e+00 2.21329919e+00 2.24770801e+00 2.28230849e+00\n",
      " 2.31709308e+00 2.35205405e+00 2.38718345e+00 2.42247314e+00\n",
      " 2.45791480e+00 2.49349990e+00 2.52921973e+00 2.56506538e+00\n",
      " 2.60102778e+00 2.63709767e+00 2.67326559e+00 2.70952193e+00\n",
      " 2.74585689e+00 2.78226053e+00 2.81872272e+00 2.85523318e+00\n",
      " 2.89178147e+00 2.92835699e+00 2.96494902e+00 3.00154667e+00\n",
      " 3.03813892e+00 3.07471463e+00 3.11126250e+00 3.14777115e+00\n",
      " 3.18422906e+00 3.22062459e+00 3.25694600e+00 3.29318147e+00\n",
      " 3.32931907e+00 3.36534677e+00 3.40125249e+00 3.43702404e+00\n",
      " 3.47264920e+00 3.50811564e+00 3.54341103e+00 3.57852295e+00\n",
      " 3.61343896e+00 3.64814659e+00 3.68263331e+00 3.71688662e+00\n",
      " 3.75089397e+00 3.78464283e+00 3.81812065e+00 3.85131492e+00\n",
      " 3.88421312e+00 3.91680277e+00 3.94907143e+00 3.98100670e+00\n",
      " 4.01259621e+00 4.04382767e+00 4.07468885e+00 4.10516760e+00\n",
      " 4.13525183e+00 4.16492955e+00 4.19418889e+00 4.22301804e+00\n",
      " 4.25140535e+00 4.27933927e+00 4.30680836e+00 4.33380134e+00\n",
      " 4.36030708e+00 4.38631457e+00 4.41181300e+00 4.43679170e+00\n",
      " 4.46124017e+00 4.48514812e+00 4.50850542e+00 4.53130215e+00\n",
      " 4.55352858e+00 4.57517521e+00 4.59623275e+00 4.61669212e+00\n",
      " 4.63654449e+00 4.65578124e+00 4.67439402e+00 4.69237471e+00\n",
      " 4.70971546e+00 4.72640866e+00 4.74244698e+00 4.75782336e+00\n",
      " 4.77253100e+00 4.78656342e+00 4.79991438e+00 4.81257795e+00\n",
      " 4.82454850e+00 4.83582071e+00 4.84638952e+00 4.85625023e+00\n",
      " 4.86539841e+00 4.87382996e+00 4.88154110e+00 4.88852837e+00\n",
      " 4.89478861e+00 4.90031901e+00 4.90511709e+00 4.90918067e+00\n",
      " 4.91250792e+00 4.91509734e+00 4.91694777e+00 4.91805836e+00]\n"
     ]
    }
   ],
   "source": [
    "def check(n, params):\n",
    "        kernel = construct_damped_periodic_kernel(params)\n",
    "        print(kernel)\n",
    "        x = np.linspace(0, 1, n)\n",
    "        K = kernel([[p] for p in x])\n",
    "        eigvals = np.sort(np.linalg.eigvals(K))\n",
    "        print(np.linalg.cond(K))\n",
    "        print(eigvals)\n",
    "    \n",
    "n = 500\n",
    " #[2.6 ** 2, 2, 1.5, 1 / 45]\n",
    "params =  [1, 1/200, 1/100, 4]\n",
    "check(n, params)"
   ]
  },
  {
   "cell_type": "code",
   "execution_count": null,
   "metadata": {},
   "outputs": [],
   "source": []
  }
 ],
 "metadata": {
  "kernelspec": {
   "display_name": "Python 3 (ipykernel)",
   "language": "python",
   "name": "python3"
  },
  "language_info": {
   "codemirror_mode": {
    "name": "ipython",
    "version": 3
   },
   "file_extension": ".py",
   "mimetype": "text/x-python",
   "name": "python",
   "nbconvert_exporter": "python",
   "pygments_lexer": "ipython3",
   "version": "3.9.7"
  }
 },
 "nbformat": 4,
 "nbformat_minor": 4
}
