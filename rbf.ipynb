{
 "cells": [
  {
   "cell_type": "code",
   "execution_count": null,
   "metadata": {},
   "outputs": [],
   "source": [
    "import numpy as np\n",
    "import scipy\n",
    "import matplotlib\n",
    "import sklearn\n",
    "from matplotlib import pyplot as plt\n",
    "import time\n",
    "from sklearn.gaussian_process.kernels import RBF, WhiteKernel\n",
    "from sklearn.gaussian_process import GaussianProcessRegressor"
   ]
  },
  {
   "cell_type": "code",
   "execution_count": null,
   "metadata": {},
   "outputs": [],
   "source": [
    "def construct_RBF_kernel(params):\n",
    "    kernel = params[0] * RBF(length_scale=params[1])\n",
    "    return kernel\n",
    "\n",
    "def simulate(n, true_params, initial_params, eps, num_restarts = 0):\n",
    "    x = np.linspace(start = 0, stop = 1, num = n).reshape(-1, 1)\n",
    "    shift = np.random.uniform(-1 / (4 * n), 1 / (4 * n), size=n).reshape(-1, 1)\n",
    "    x = x + shift\n",
    "    true_kernel = construct_RBF_kernel(true_params) + WhiteKernel(noise_level=eps)\n",
    "    true_gp = GaussianProcessRegressor(kernel=true_kernel, alpha=0)\n",
    "    y = np.squeeze(true_gp.sample_y(x, random_state=None))\n",
    "    #plt.plot(x, y)\n",
    "    \n",
    "    kernel = construct_RBF_kernel(initial_params)\n",
    "    gp = GaussianProcessRegressor(kernel=kernel, n_restarts_optimizer=num_restarts, alpha=eps)\n",
    "    gp.fit(x, y)\n",
    "    gp_params = gp.kernel_.get_params()\n",
    "    params = [gp_params['k1__constant_value'], gp_params['k2__length_scale']]\n",
    "    return params\n",
    "\n",
    "n = 500\n",
    "true_params = [1, 1 / 500]\n",
    "initial_params = [1 * p for p in true_params]\n",
    "eps = 0.1\n",
    "simulate(n, true_params, initial_params, eps, 0)\n",
    "    "
   ]
  },
  {
   "cell_type": "code",
   "execution_count": null,
   "metadata": {},
   "outputs": [],
   "source": [
    "# Function to generate plots\n",
    "def get_param_estimates(sample_sizes, true_params, initial_params, eps, num_restarts, num_replicates):\n",
    "    # Collect estimates\n",
    "    estimates = []\n",
    "    for n in sample_sizes:\n",
    "        estimates.append([simulate(n, true_params, initial_params, eps, num_restarts) for _ in range(num_replicates)])\n",
    "    \n",
    "    param_estimates = [[[est[i] for est in sample] for sample in estimates] for i in range(len(true_params))]\n",
    "    np.save('./results/RBF-simulation.npy', param_estimates)\n",
    "    return param_estimates\n",
    "    \n",
    "def generate_boxplots(param_estimates, true_params, sample_sizes, param_names):\n",
    "    # Create boxplots\n",
    "    fig, axs = plt.subplots(1, len(true_params), figsize=(12, 6))\n",
    "    for i, param_estimate in enumerate(param_estimates):\n",
    "        axs[i].boxplot(param_estimate, labels=sample_sizes, vert=True)\n",
    "        axs[i].axhline(y=true_params[i], color='r', alpha=0.5, linestyle='--')\n",
    "        axs[i].set_xticks(range(1, len(sample_sizes) + 1))\n",
    "        axs[i].set_xlabel('Sample Size', fontsize=15)\n",
    "        axs[i].set_title(f'{param_names[i]}', fontsize=20)\n",
    "\n",
    "    plt.tight_layout()\n",
    "    plt.savefig('./boxplots/RBF-simulation.png', dpi=300)\n",
    "    plt.show()\n",
    "\n",
    "# Timing execution\n",
    "start_time = time.time()\n",
    "\n",
    "# Parameters\n",
    "num_replicates = 100\n",
    "true_params = [1, 1 / 500]  # Example true parameters\n",
    "initial_params = [1.5 * param for param in true_params]  # Example initial parameters\n",
    "eps = 0.1\n",
    "num_restarts = 0\n",
    "sample_sizes = [50, 100, 200, 500]  # Example sample sizes\n",
    "\n",
    "# Generate plots\n",
    "np.random.seed(2024)\n",
    "param_estimates = get_param_estimates(sample_sizes, true_params, initial_params, eps, num_restarts, num_replicates)\n",
    "\n",
    "end_time = time.time()\n",
    "execution_time = end_time - start_time\n",
    "print(\"Execution time:\", execution_time, \"seconds\")\n"
   ]
  },
  {
   "cell_type": "code",
   "execution_count": null,
   "metadata": {
    "tags": []
   },
   "outputs": [],
   "source": [
    "# Generate plots\n",
    "param_estimates = np.load('./results/RBF-simulation.npy').tolist()\n",
    "param_names = [r'$\\hat{\\sigma}^2$', r'$\\hat{\\ell}$']\n",
    "generate_boxplots(param_estimates, true_params, sample_sizes, param_names)"
   ]
  },
  {
   "cell_type": "code",
   "execution_count": null,
   "metadata": {},
   "outputs": [],
   "source": [
    "print(\"NumPy version:\", np.__version__)\n",
    "print(\"SciPy version:\", scipy.__version__)\n",
    "print(\"Matplotlib version:\", matplotlib.__version__)\n",
    "print(\"Scikit-learn version:\", sklearn.__version__)"
   ]
  }
 ],
 "metadata": {
  "kernelspec": {
   "display_name": "Python 3 (ipykernel)",
   "language": "python",
   "name": "python3"
  },
  "language_info": {
   "codemirror_mode": {
    "name": "ipython",
    "version": 3
   },
   "file_extension": ".py",
   "mimetype": "text/x-python",
   "name": "python",
   "nbconvert_exporter": "python",
   "pygments_lexer": "ipython3",
   "version": "3.9.7"
  }
 },
 "nbformat": 4,
 "nbformat_minor": 4
}
