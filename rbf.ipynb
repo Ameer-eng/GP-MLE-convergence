{
 "cells": [
  {
   "cell_type": "code",
   "execution_count": 10,
   "metadata": {},
   "outputs": [],
   "source": [
    "import numpy as np\n",
    "import scipy\n",
    "from matplotlib import pyplot as plt\n",
    "import time\n",
    "from sklearn.gaussian_process.kernels import RBF, WhiteKernel\n",
    "from sklearn.gaussian_process import GaussianProcessRegressor"
   ]
  },
  {
   "cell_type": "code",
   "execution_count": 11,
   "metadata": {},
   "outputs": [
    {
     "data": {
      "text/plain": [
       "[1.109066326613251, 0.0021125343325687825]"
      ]
     },
     "execution_count": 11,
     "metadata": {},
     "output_type": "execute_result"
    }
   ],
   "source": [
    "def construct_RBF_kernel(params):\n",
    "    kernel = params[0] * RBF(length_scale=params[1])\n",
    "    return kernel\n",
    "\n",
    "def simulate(n, true_params, initial_params, eps, num_restarts = 0):\n",
    "    x = np.linspace(start = 0, stop = 1, num = n).reshape(-1, 1)\n",
    "    shift = np.random.uniform(-1 / (4 * n), 1 / (4 * n), size=n).reshape(-1, 1)\n",
    "    x = x + shift\n",
    "    true_kernel = construct_RBF_kernel(true_params) + WhiteKernel(noise_level=eps)\n",
    "    true_gp = GaussianProcessRegressor(kernel=true_kernel, alpha=0)\n",
    "    y = np.squeeze(true_gp.sample_y(x, random_state=None))\n",
    "    #plt.plot(x, y)\n",
    "    \n",
    "    kernel = construct_RBF_kernel(initial_params)\n",
    "    gp = GaussianProcessRegressor(kernel=kernel, n_restarts_optimizer=num_restarts, alpha=eps)\n",
    "    gp.fit(x, y)\n",
    "    gp_params = gp.kernel_.get_params()\n",
    "    params = [gp_params['k1__constant_value'], gp_params['k2__length_scale']]\n",
    "    return params\n",
    "\n",
    "n = 500\n",
    "true_params = [1, 1 / 500]\n",
    "initial_params = [1 * p for p in true_params]\n",
    "eps = 0.1\n",
    "simulate(n, true_params, initial_params, eps, 0)\n",
    "    "
   ]
  },
  {
   "cell_type": "code",
   "execution_count": 18,
   "metadata": {},
   "outputs": [
    {
     "name": "stdout",
     "output_type": "stream",
     "text": [
      "Execution time: 56.27979230880737 seconds\n"
     ]
    }
   ],
   "source": [
    "# Function to generate plots\n",
    "def get_param_estimates(sample_sizes, true_params, initial_params, eps, num_restarts, num_replicates):\n",
    "    # Collect estimates\n",
    "    estimates = []\n",
    "    for n in sample_sizes:\n",
    "        estimates.append([simulate(n, true_params, initial_params, eps, num_restarts) for _ in range(num_replicates)])\n",
    "    \n",
    "    param_estimates = [[[est[i] for est in sample] for sample in estimates] for i in range(len(true_params))]\n",
    "    np.save('./results/RBF-simulation.npy', param_estimates)\n",
    "    return param_estimates\n",
    "    \n",
    "def generate_boxplots(param_estimates, true_params, sample_sizes, param_names):\n",
    "    # Create boxplots\n",
    "    fig, axs = plt.subplots(1, len(true_params), figsize=(12, 6))\n",
    "    for i, param_estimate in enumerate(param_estimates):\n",
    "        axs[i].boxplot(param_estimate, labels=sample_sizes, vert=True)\n",
    "        axs[i].axhline(y=true_params[i], color='r', alpha=0.5, linestyle='--')\n",
    "        axs[i].set_xticks(range(1, len(sample_sizes) + 1))\n",
    "        axs[i].set_xlabel('Sample Size', fontsize=15)\n",
    "        axs[i].set_title(f'{param_names[i]}', fontsize=20)\n",
    "\n",
    "    plt.tight_layout()\n",
    "    plt.savefig('./boxplots/RBF-simulation.png')\n",
    "    plt.show()\n",
    "\n",
    "# Timing execution\n",
    "start_time = time.time()\n",
    "\n",
    "# Parameters\n",
    "num_replicates = 100\n",
    "true_params = [1, 1 / 500]  # Example true parameters\n",
    "initial_params = [1.5 * param for param in true_params]  # Example initial parameters\n",
    "eps = 0.1\n",
    "num_restarts = 0\n",
    "sample_sizes = [50, 100, 200, 500]  # Example sample sizes\n",
    "\n",
    "# Generate plots\n",
    "np.random.seed(2024)\n",
    "param_estimates = get_param_estimates(sample_sizes, true_params, initial_params, eps, num_restarts, num_replicates)\n",
    "\n",
    "end_time = time.time()\n",
    "execution_time = end_time - start_time\n",
    "print(\"Execution time:\", execution_time, \"seconds\")\n"
   ]
  },
  {
   "cell_type": "code",
   "execution_count": 19,
   "metadata": {
    "tags": []
   },
   "outputs": [
    {
     "data": {
      "image/png": "[encoded data removed]",
      "text/plain": [
       "<Figure size 864x432 with 2 Axes>"
      ]
     },
     "metadata": {
      "needs_background": "light"
     },
     "output_type": "display_data"
    }
   ],
   "source": [
    "# Generate plots\n",
    "param_estimates = np.load('./results/RBF-simulation.npy').tolist()\n",
    "param_names = [r'$\\hat{\\sigma}^2$', r'$\\hat{\\ell}$']\n",
    "generate_boxplots(param_estimates, true_params, sample_sizes, param_names)"
   ]
  },
  {
   "cell_type": "code",
   "execution_count": 7,
   "metadata": {},
   "outputs": [
    {
     "name": "stdout",
     "output_type": "stream",
     "text": [
      "1**2 * RBF(length_scale=0.00333)\n",
      "1.0413748793335253\n",
      "[0.97973188 0.97976129 0.97981029 0.97987882 0.97996681 0.98007419\n",
      " 0.98020084 0.98034665 0.98051147 0.98069514 0.98089749 0.98111832\n",
      " 0.98135742 0.98161455 0.98188947 0.98218191 0.98249159 0.9828182\n",
      " 0.98316144 0.98352097 0.98389644 0.98428749 0.98469374 0.9851148\n",
      " 0.98555026 0.98599969 0.98646268 0.98693876 0.98742747 0.98792835\n",
      " 0.98844091 0.98896464 0.98949906 0.99004363 0.99059784 0.99116114\n",
      " 0.991733   0.99231285 0.99290014 0.99349429 0.99409474 0.99470091\n",
      " 0.9953122  0.99592802 0.99654779 0.99717089 0.99779674 0.99842471\n",
      " 0.99905421 0.99968462 1.00031534 1.00094575 1.00157525 1.00220322\n",
      " 1.00282907 1.00345217 1.00407194 1.00468776 1.00529906 1.00590522\n",
      " 1.00650567 1.00709983 1.00768712 1.00826698 1.00883883 1.00940214\n",
      " 1.00995634 1.01050092 1.01103534 1.01155908 1.01207164 1.01257252\n",
      " 1.01306124 1.01353732 1.0140003  1.01444974 1.01488521 1.01530627\n",
      " 1.01571252 1.01610357 1.01647905 1.01683858 1.01718182 1.01750844\n",
      " 1.01781811 1.01811056 1.01838548 1.01864261 1.01888171 1.01910254\n",
      " 1.01930489 1.01948857 1.01965339 1.0197992  1.01992585 1.02003323\n",
      " 1.02012122 1.02018975 1.02023875 1.02026817]\n"
     ]
    }
   ],
   "source": [
    "    def check(n, params):\n",
    "        kernel = construct_RBF_kernel(params)\n",
    "        print(kernel)\n",
    "        x = np.linspace(0, 1, n)\n",
    "        K = kernel([[p] for p in x])\n",
    "        eigvals = np.sort(np.linalg.eigvals(K))\n",
    "        print(np.linalg.cond(K))\n",
    "        print(eigvals)\n",
    "    \n",
    "    n = 100\n",
    "    params = [1, 1/300]\n",
    "    check(n, params)"
   ]
  },
  {
   "cell_type": "code",
   "execution_count": null,
   "metadata": {},
   "outputs": [],
   "source": []
  }
 ],
 "metadata": {
  "kernelspec": {
   "display_name": "Python 3 (ipykernel)",
   "language": "python",
   "name": "python3"
  },
  "language_info": {
   "codemirror_mode": {
    "name": "ipython",
    "version": 3
   },
   "file_extension": ".py",
   "mimetype": "text/x-python",
   "name": "python",
   "nbconvert_exporter": "python",
   "pygments_lexer": "ipython3",
   "version": "3.9.7"
  }
 },
 "nbformat": 4,
 "nbformat_minor": 4
}
